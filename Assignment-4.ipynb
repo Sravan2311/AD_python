{
 "cells": [
  {
   "cell_type": "code",
   "execution_count": 1,
   "id": "2399b9a9-cbec-4a26-a014-0dd590afc492",
   "metadata": {},
   "outputs": [
    {
     "name": "stdout",
     "output_type": "stream",
     "text": [
      "Sum of even numbers: 30\n"
     ]
    }
   ],
   "source": [
    "n = 10 \n",
    "even_sum = 0\n",
    "for i in range(2, n + 1, 2):\n",
    "    even_sum += i\n",
    "print(\"Sum of even numbers:\", even_sum)"
   ]
  },
  {
   "cell_type": "code",
   "execution_count": null,
   "id": "97ca5ef5-bc3c-4bd1-b00c-ee3b63223e25",
   "metadata": {},
   "outputs": [],
   "source": []
  }
 ],
 "metadata": {
  "kernelspec": {
   "display_name": "Python 3 (ipykernel)",
   "language": "python",
   "name": "python3"
  },
  "language_info": {
   "codemirror_mode": {
    "name": "ipython",
    "version": 3
   },
   "file_extension": ".py",
   "mimetype": "text/x-python",
   "name": "python",
   "nbconvert_exporter": "python",
   "pygments_lexer": "ipython3",
   "version": "3.12.7"
  }
 },
 "nbformat": 4,
 "nbformat_minor": 5
}
