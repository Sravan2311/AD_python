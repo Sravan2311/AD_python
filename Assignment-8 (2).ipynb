{
 "cells": [
  {
   "cell_type": "code",
   "execution_count": 3,
   "id": "0a97f0bf-ad16-489e-9802-7b4ebc199a4c",
   "metadata": {},
   "outputs": [
    {
     "name": "stdout",
     "output_type": "stream",
     "text": [
      "  Region    Product  Sales  Quantity  Profit\n",
      "0  North  Product A   1500       100      50\n",
      "3   West  Product B   2000       120      70\n",
      "  Region    Product  Sales  Quantity  Profit\n",
      "2   East  Product A    200        60      20\n"
     ]
    }
   ],
   "source": [
    "import pandas as pd--#1st Question\n",
    "\n",
    "data = {\n",
    "    'Region': ['North', 'South', 'East', 'West', 'North'],\n",
    "    'Product': ['Product A', 'Product B', 'Product A', 'Product B', 'Product C'],\n",
    "    'Sales': [1500, 300, 200, 2000, 400],\n",
    "    'Quantity': [100, 50, 60, 120, 80],\n",
    "    'Profit': [50, 30, 20, 70, 40]\n",
    "}\n",
    "df = pd.DataFrame(data)\n",
    "sales_above_1000 = df[df['Sales'] > 1000]\n",
    "east_sales = df[df['Region'] == 'East']\n",
    "print(sales_above_1000)\n",
    "print(east_sales)\n",
    "\n"
   ]
  },
  {
   "cell_type": "code",
   "execution_count": 5,
   "id": "b6d07b4c-327a-4025-ad98-7d4660434d63",
   "metadata": {},
   "outputs": [
    {
     "name": "stdout",
     "output_type": "stream",
     "text": [
      "  Region    Product  Sales  Quantity  Profit  Profit_Per_Unit High_Sales\n",
      "0  North  Product A   1500       100      50         0.500000        Yes\n",
      "1  South  Product B    300        50      30         0.600000         No\n",
      "2   East  Product A    200        60      20         0.333333         No\n",
      "3   West  Product B   2000       120      70         0.583333        Yes\n",
      "4  North  Product C    400        80      40         0.500000         No\n"
     ]
    }
   ],
   "source": [
    "import pandas as pd--2nd Question\n",
    "data = {\n",
    "    'Region': ['North', 'South', 'East', 'West', 'North'],\n",
    "    'Product': ['Product A', 'Product B', 'Product A', 'Product B', 'Product C'],\n",
    "    'Sales': [1500, 300, 200, 2000, 400],\n",
    "    'Quantity': [100, 50, 60, 120, 80],\n",
    "    'Profit': [50, 30, 20, 70, 40]\n",
    "}\n",
    "df = pd.DataFrame(data)\n",
    "df['Profit_Per_Unit'] = df['Profit'] / df['Quantity']\n",
    "df['High_Sales'] = df['Sales'].apply(lambda x: 'Yes' if x > 1000 else 'No')\n",
    "print(df)"
   ]
  },
  {
   "cell_type": "code",
   "execution_count": null,
   "id": "fcfe1c08-21dc-4228-a3d9-fbb0cc65402d",
   "metadata": {},
   "outputs": [],
   "source": []
  }
 ],
 "metadata": {
  "kernelspec": {
   "display_name": "Python 3 (ipykernel)",
   "language": "python",
   "name": "python3"
  },
  "language_info": {
   "codemirror_mode": {
    "name": "ipython",
    "version": 3
   },
   "file_extension": ".py",
   "mimetype": "text/x-python",
   "name": "python",
   "nbconvert_exporter": "python",
   "pygments_lexer": "ipython3",
   "version": "3.12.7"
  }
 },
 "nbformat": 4,
 "nbformat_minor": 5
}
