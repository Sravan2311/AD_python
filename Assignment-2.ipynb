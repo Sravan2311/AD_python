{
 "cells": [
  {
   "cell_type": "code",
   "execution_count": 1,
   "id": "e316249b-1170-488d-99ec-1f8cdb64325f",
   "metadata": {},
   "outputs": [
    {
     "name": "stdout",
     "output_type": "stream",
     "text": [
      "[100, 200, 300, 400, 500]\n",
      "<class 'list'>\n"
     ]
    }
   ],
   "source": [
    "a_list = [100, 200, 300, 400, 500]\n",
    "b = type(a_list)\n",
    "print(a_list)\n",
    "print(b)"
   ]
  },
  {
   "cell_type": "code",
   "execution_count": 2,
   "id": "b79f01a7-90e8-4006-b5ef-1c2868775d61",
   "metadata": {},
   "outputs": [
    {
     "name": "stdout",
     "output_type": "stream",
     "text": [
      "100\n",
      "300\n",
      "500\n"
     ]
    }
   ],
   "source": [
    "print(a_list[0])  \n",
    "print(a_list[2])  \n",
    "print(a_list[-1]) "
   ]
  },
  {
   "cell_type": "code",
   "execution_count": 3,
   "id": "f8b36b4b-3d70-4172-abb9-e556d68e1221",
   "metadata": {},
   "outputs": [
    {
     "name": "stdout",
     "output_type": "stream",
     "text": [
      "(1, 2, 3, 4, 5)\n",
      "<class 'tuple'>\n"
     ]
    }
   ],
   "source": [
    "a_tuple = (1, 2, 3, 4, 5)\n",
    "b = type(a_tuple)\n",
    "print(a_tuple)\n",
    "print(b)\n"
   ]
  },
  {
   "cell_type": "code",
   "execution_count": 4,
   "id": "082009ea-6ca2-415e-a762-8b2f6eb253c3",
   "metadata": {},
   "outputs": [
    {
     "name": "stdout",
     "output_type": "stream",
     "text": [
      "2\n",
      "4\n",
      "4\n"
     ]
    }
   ],
   "source": [
    "print(a_tuple[1])  \n",
    "print(a_tuple[3])  \n",
    "print(a_tuple[-2]) \n"
   ]
  },
  {
   "cell_type": "code",
   "execution_count": 5,
   "id": "99807f80-ef8f-4533-a5b6-bbb37c554d14",
   "metadata": {},
   "outputs": [
    {
     "name": "stdout",
     "output_type": "stream",
     "text": [
      "{'name': 'Alice', 'age': 25, 'city': 'New York', 'job': 'Engineer', 'country': 'USA'}\n",
      "<class 'dict'>\n"
     ]
    }
   ],
   "source": [
    "a_dict = {'name': 'Alice', 'age': 25, 'city': 'New York', 'job': 'Engineer', 'country': 'USA'}\n",
    "b = type(a_dict)\n",
    "print(a_dict)\n",
    "print(b)"
   ]
  },
  {
   "cell_type": "code",
   "execution_count": 6,
   "id": "928968f7-020a-4829-912e-0c99a3915f11",
   "metadata": {},
   "outputs": [
    {
     "name": "stdout",
     "output_type": "stream",
     "text": [
      "Alice\n",
      "New York\n",
      "25\n"
     ]
    }
   ],
   "source": [
    "print(a_dict['name'])   \n",
    "print(a_dict['city'])   \n",
    "print(a_dict['age'])    \n"
   ]
  },
  {
   "cell_type": "code",
   "execution_count": null,
   "id": "308ee605-f401-4c52-b8f2-b8f40b823812",
   "metadata": {},
   "outputs": [],
   "source": []
  }
 ],
 "metadata": {
  "kernelspec": {
   "display_name": "Python 3 (ipykernel)",
   "language": "python",
   "name": "python3"
  },
  "language_info": {
   "codemirror_mode": {
    "name": "ipython",
    "version": 3
   },
   "file_extension": ".py",
   "mimetype": "text/x-python",
   "name": "python",
   "nbconvert_exporter": "python",
   "pygments_lexer": "ipython3",
   "version": "3.12.7"
  }
 },
 "nbformat": 4,
 "nbformat_minor": 5
}
