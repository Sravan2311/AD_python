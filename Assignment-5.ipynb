{
 "cells": [
  {
   "cell_type": "code",
   "execution_count": 1,
   "id": "a82b68b1-544a-4ffe-94e5-a7ee6caec9ca",
   "metadata": {},
   "outputs": [
    {
     "name": "stdin",
     "output_type": "stream",
     "text": [
      "Enter a positive integer:  9\n"
     ]
    },
    {
     "name": "stdout",
     "output_type": "stream",
     "text": [
      "Numbers from 1 to 9 :\n",
      "1\n",
      "2\n",
      "3\n",
      "4\n",
      "5\n",
      "6\n",
      "7\n",
      "8\n",
      "9\n",
      "The sum of numbers from 1 to 9 is: 45\n"
     ]
    }
   ],
   "source": [
    "#1)Write a Python program that performs the following tasks:\n",
    "\n",
    "#1. Ask the user to enter a positive integer `n`.\n",
    "#2. Use a `for` loop to print all numbers from `1` to `n` on separate lines.\n",
    "#3. Use a `while` loop to calculate the sum of all numbers from `1` to `n` and print the result.\n",
    "\n",
    "n = int(input(\"Enter a positive integer: \"))\n",
    "while n <= 0:\n",
    "    n = int(input(\"Please enter a positive integer: \"))\n",
    "print(\"Numbers from 1 to\", n, \":\")\n",
    "for i in range(1, n + 1):\n",
    "    print(i)\n",
    "sum_numbers = 0\n",
    "current = 1\n",
    "while current <= n:\n",
    "    sum_numbers += current\n",
    "    current += 1\n",
    "print(\"The sum of numbers from 1 to\", n, \"is:\", sum_numbers)"
   ]
  },
  {
   "cell_type": "code",
   "execution_count": null,
   "id": "e70d6c51-1d0f-4583-9240-8b5bd74f56cc",
   "metadata": {},
   "outputs": [],
   "source": [
    "#2)Write a Python program that includes a user-defined function to perform the following tasks:\n",
    "\n",
    "#1. Define a function named calculate_square that takes a single argument `n` and returns the square of `n`.\n",
    "#2. In the main program, ask the user to input a positive integer.\n",
    "#3. Call the calculate_square function with the user-provided number and display the result.\n"
   ]
  }
 ],
 "metadata": {
  "kernelspec": {
   "display_name": "Python 3 (ipykernel)",
   "language": "python",
   "name": "python3"
  },
  "language_info": {
   "codemirror_mode": {
    "name": "ipython",
    "version": 3
   },
   "file_extension": ".py",
   "mimetype": "text/x-python",
   "name": "python",
   "nbconvert_exporter": "python",
   "pygments_lexer": "ipython3",
   "version": "3.12.7"
  }
 },
 "nbformat": 4,
 "nbformat_minor": 5
}
